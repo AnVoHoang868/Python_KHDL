{
 "cells": [
  {
   "cell_type": "markdown",
   "id": "50da8a9d",
   "metadata": {},
   "source": [
    "1. Chuẩn bị dữ liệu và thư viện"
   ]
  },
  {
   "cell_type": "code",
   "execution_count": 1,
   "id": "bf2bcf52",
   "metadata": {},
   "outputs": [],
   "source": [
    "import pandas as pd\n",
    "import numpy as np\n",
    "from scipy import stats\n",
    "import matplotlib.pyplot as plt\n",
    "\n",
    "df = pd.read_csv('mymoviedb.csv', encoding='utf-8', engine='python')\n",
    "popularity_data = pd.to_numeric(df['Popularity'], errors='coerce').dropna()"
   ]
  },
  {
   "cell_type": "markdown",
   "id": "98cb645f",
   "metadata": {},
   "source": [
    "2. Tính các thông số thống kê mẫu"
   ]
  },
  {
   "cell_type": "code",
   "execution_count": 2,
   "id": "a6c19f26",
   "metadata": {},
   "outputs": [
    {
     "name": "stdout",
     "output_type": "stream",
     "text": [
      "Kích thước mẫu (n): 9827\n",
      "Trung bình mẫu (x̄): 40.321\n",
      "Độ lệch chuẩn mẫu (s): 108.874\n",
      "Standard Error (SE): 1.098\n"
     ]
    }
   ],
   "source": [
    "n = len(popularity_data)                    # Kích thước mẫu\n",
    "x_bar = popularity_data.mean()              # Trung bình mẫu\n",
    "s = popularity_data.std(ddof=1)             # Độ lệch chuẩn mẫu hiệu chỉnh\n",
    "se = s / np.sqrt(n)                         # Standard error\n",
    "\n",
    "print(f\"Kích thước mẫu (n): {n}\")\n",
    "print(f\"Trung bình mẫu (x̄): {x_bar:.3f}\")\n",
    "print(f\"Độ lệch chuẩn mẫu (s): {s:.3f}\")\n",
    "print(f\"Standard Error (SE): {se:.3f}\")"
   ]
  },
  {
   "cell_type": "markdown",
   "id": "cd0f157c",
   "metadata": {},
   "source": [
    "3. Phân tích chi tiết khoảng tin cậy 95%"
   ]
  },
  {
   "cell_type": "code",
   "execution_count": null,
   "id": "c1a02835",
   "metadata": {},
   "outputs": [
    {
     "name": "stdout",
     "output_type": "stream",
     "text": [
      "PHÂN TÍCH KHOẢNG TIN CẬY 95%:\n",
      "==================================================\n",
      "Giá trị z(α/2): 1.960\n",
      "Margin of Error: 2.153\n",
      "Khoảng tin cậy 95%: [38.168, 42.473]\n",
      "Độ dài khoảng tin cậy: 4.305\n"
     ]
    }
   ],
   "source": [
    "confidence_level = 0.95\n",
    "alpha = 1 - confidence_level\n",
    "z_alpha_2 = stats.norm.ppf(1 - alpha/2)\n",
    "\n",
    "margin_error = z_alpha_2 * se\n",
    "ci_95_lower = x_bar - margin_error\n",
    "ci_95_upper = x_bar + margin_error\n",
    "\n",
    "print(\"PHÂN TÍCH KHOẢNG TIN CẬY 95%:\")\n",
    "print(\"=\"*50)\n",
    "print(f\"Giá trị z(α/2): {z_alpha_2:.3f}\")\n",
    "print(f\"Margin of Error: {margin_error:.3f}\")\n",
    "print(f\"Khoảng tin cậy 95%: [{ci_95_lower:.3f}, {ci_95_upper:.3f}]\")\n",
    "print(f\"Độ dài khoảng tin cậy: {ci_95_upper - ci_95_lower:.3f}\")"
   ]
  }
 ],
 "metadata": {
  "kernelspec": {
   "display_name": "Python 3",
   "language": "python",
   "name": "python3"
  },
  "language_info": {
   "codemirror_mode": {
    "name": "ipython",
    "version": 3
   },
   "file_extension": ".py",
   "mimetype": "text/x-python",
   "name": "python",
   "nbconvert_exporter": "python",
   "pygments_lexer": "ipython3",
   "version": "3.9.6"
  }
 },
 "nbformat": 4,
 "nbformat_minor": 5
}
