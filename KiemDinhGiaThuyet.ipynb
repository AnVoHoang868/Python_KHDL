{
 "cells": [
  {
   "cell_type": "code",
   "execution_count": 2,
   "id": "0e541221",
   "metadata": {},
   "outputs": [
    {
     "name": "stdout",
     "output_type": "stream",
     "text": [
      "H0: mu = 1000.0\n",
      "H1: mu != mu0  (hai phía)\n",
      "n  = 9827\n",
      "x̄ (mean) = 40.320570\n",
      "s (std, ddof=1)= 108.874308\n",
      "SE = s/sqrt(n) = 1.098285\n",
      "z_obs (z_qs)   = -873.798425\n",
      "p-value (2-tail)= 0\n",
      "KẾT LUẬN (p-value): p < α  → Bác bỏ H0.\n",
      "CI 95% cho μ (z): (38.167972 ; 42.473168)\n"
     ]
    }
   ],
   "source": [
    "\n",
    "import pandas as pd\n",
    "import numpy as np\n",
    "from math import sqrt\n",
    "from scipy.stats import norm\n",
    "\n",
    "PATH = \"mymoviedb.csv\"  \n",
    "df = pd.read_csv(PATH, engine=\"python\", on_bad_lines=\"skip\")\n",
    "pop = pd.to_numeric(df[\"Popularity\"], errors=\"coerce\").dropna()\n",
    "\n",
    "mu0   = 1000.0    \n",
    "alpha = 0.05     \n",
    "\n",
    "n    = int(pop.shape[0])          \n",
    "xbar = float(pop.mean())           \n",
    "s    = float(pop.std(ddof=1))     \n",
    "\n",
    "SE   = s / sqrt(n)                 \n",
    "z_qs = (xbar - mu0) / SE           \n",
    "p_two = 2 * (1 - norm.cdf(abs(z_qs)))\n",
    "\n",
    "z_alpha2 = norm.ppf(1 - alpha/2)   \n",
    "ci_low   = xbar - z_alpha2 * SE\n",
    "ci_high  = xbar + z_alpha2 * SE\n",
    "\n",
    "print(f\"H0: mu = {mu0}\")\n",
    "print(\"H1: mu != mu0  (hai phía)\")\n",
    "print(f\"n  = {n}\")\n",
    "print(f\"x̄ (mean) = {xbar:,.6f}\")\n",
    "print(f\"s (std, ddof=1)= {s:,.6f}\")\n",
    "print(f\"SE = s/sqrt(n) = {SE:,.6f}\")\n",
    "print(f\"z_obs (z_qs)   = {z_qs:,.6f}\")\n",
    "print(f\"p-value (2-tail)= {p_two:.6g}\")\n",
    "if p_two < alpha:\n",
    "    print(\"KẾT LUẬN (p-value): p < α  → Bác bỏ H0.\")\n",
    "else:\n",
    "    print(\"KẾT LUẬN (p-value): p ≥ α → Chưa đủ cơ sở bác bỏ H0.\")\n",
    "print(f\"CI 95% cho μ (z): ({ci_low:,.6f} ; {ci_high:,.6f})\")\n",
    "\n"
   ]
  }
 ],
 "metadata": {
  "kernelspec": {
   "display_name": "Python 3",
   "language": "python",
   "name": "python3"
  },
  "language_info": {
   "codemirror_mode": {
    "name": "ipython",
    "version": 3
   },
   "file_extension": ".py",
   "mimetype": "text/x-python",
   "name": "python",
   "nbconvert_exporter": "python",
   "pygments_lexer": "ipython3",
   "version": "3.13.7"
  }
 },
 "nbformat": 4,
 "nbformat_minor": 5
}
