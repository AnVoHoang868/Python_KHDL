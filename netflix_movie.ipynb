{
 "cells": [
  {
   "cell_type": "code",
   "execution_count": 15,
   "id": "61806b01",
   "metadata": {},
   "outputs": [],
   "source": [
    "import pandas as pd\n",
    "import numpy as np\n",
    "from scipy.stats import norm\n",
    "from scipy.stats import zscore"
   ]
  },
  {
   "cell_type": "code",
   "execution_count": 5,
   "id": "29bdf5aa",
   "metadata": {},
   "outputs": [],
   "source": [
    "df = pd.read_csv('mymoviedb.csv', encoding='utf-8', engine='python')"
   ]
  },
  {
   "cell_type": "code",
   "execution_count": 6,
   "id": "2f73639e",
   "metadata": {},
   "outputs": [],
   "source": [
    "df[\"is_action\"] = df[\"Genre\"].str.contains(\"action\", case=False, na=False).astype(int)"
   ]
  },
  {
   "cell_type": "code",
   "execution_count": 11,
   "id": "32712eea",
   "metadata": {},
   "outputs": [],
   "source": [
    "n = len(df)"
   ]
  },
  {
   "cell_type": "code",
   "execution_count": null,
   "id": "4fbcc8f8",
   "metadata": {},
   "outputs": [],
   "source": [
    "df50 = df['Action'].head(50)"
   ]
  },
  {
   "cell_type": "code",
   "execution_count": 18,
   "id": "536004b8",
   "metadata": {},
   "outputs": [],
   "source": [
    "z_scores_lib = zscore(df50)"
   ]
  },
  {
   "cell_type": "code",
   "execution_count": 26,
   "id": "8882dec6",
   "metadata": {},
   "outputs": [],
   "source": [
    "result = pd.DataFrame({\n",
    "    'Popularity': df50,\n",
    "    'Z-Score (manual)': z_scores_lib,\n",
    "})"
   ]
  },
  {
   "cell_type": "code",
   "execution_count": null,
   "id": "bf8d9eee",
   "metadata": {},
   "outputs": [],
   "source": []
  },
  {
   "cell_type": "code",
   "execution_count": 29,
   "id": "49bd2cfb",
   "metadata": {},
   "outputs": [
    {
     "name": "stdout",
     "output_type": "stream",
     "text": [
      "    Popularity  Z-Score (manual)\n",
      "0     5083.954          4.655419\n",
      "1     3827.658          3.153935\n",
      "2     2618.087          1.708296\n",
      "3     2402.201          1.450276\n",
      "4     1895.511          0.844697\n",
      "5     1750.484          0.671366\n",
      "6     1675.161          0.581342\n",
      "7     1601.782          0.493642\n",
      "8     1594.013          0.484357\n",
      "9     1537.406          0.416702\n",
      "10    1500.523          0.372620\n",
      "11    1485.064          0.354144\n",
      "12    1468.377          0.334201\n",
      "13    1455.144          0.318385\n",
      "14    1431.307          0.289896\n",
      "15    1373.778          0.221139\n",
      "16    1312.790          0.148248\n",
      "17    1252.317          0.075973\n",
      "18    1240.946          0.062382\n",
      "19    1178.544         -0.012198\n",
      "20    1112.900         -0.090654\n",
      "21    1096.790         -0.109908\n",
      "22    1053.615         -0.161509\n",
      "23     941.024         -0.296074\n",
      "24     881.086         -0.367710\n",
      "25     869.605         -0.381432\n",
      "26     867.326         -0.384156\n",
      "27     866.391         -0.385273\n",
      "28     845.992         -0.409654\n",
      "29     839.904         -0.416930\n",
      "30     781.748         -0.486436\n",
      "31     769.185         -0.501451\n",
      "32     761.793         -0.510285\n",
      "33     761.127         -0.511081\n",
      "34     678.186         -0.610210\n",
      "35     659.105         -0.633015\n",
      "36     647.540         -0.646837\n",
      "37     622.240         -0.677075\n",
      "38     614.110         -0.686791\n",
      "39     601.958         -0.701315\n",
      "40     590.474         -0.715040\n",
      "41     585.011         -0.721569\n",
      "42     577.591         -0.730438\n",
      "43     567.421         -0.742592\n",
      "44     564.507         -0.746075\n",
      "45     553.141         -0.759659\n",
      "46     551.650         -0.761441\n",
      "47     533.903         -0.782652\n",
      "48     509.277         -0.812084\n",
      "49     447.872         -0.885473\n"
     ]
    }
   ],
   "source": [
    "print(result)"
   ]
  },
  {
   "cell_type": "code",
   "execution_count": null,
   "id": "24ab3359",
   "metadata": {},
   "outputs": [],
   "source": []
  }
 ],
 "metadata": {
  "kernelspec": {
   "display_name": "base",
   "language": "python",
   "name": "python3"
  },
  "language_info": {
   "codemirror_mode": {
    "name": "ipython",
    "version": 3
   },
   "file_extension": ".py",
   "mimetype": "text/x-python",
   "name": "python",
   "nbconvert_exporter": "python",
   "pygments_lexer": "ipython3",
   "version": "3.12.9"
  }
 },
 "nbformat": 4,
 "nbformat_minor": 5
}
